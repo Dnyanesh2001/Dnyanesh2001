{
  "nbformat": 4,
  "nbformat_minor": 0,
  "metadata": {
    "colab": {
      "provenance": [],
      "authorship_tag": "ABX9TyPTPXynUpuPZeIft/stCOA5",
      "include_colab_link": true
    },
    "kernelspec": {
      "name": "python3",
      "display_name": "Python 3"
    },
    "language_info": {
      "name": "python"
    }
  },
  "cells": [
    {
      "cell_type": "markdown",
      "metadata": {
        "id": "view-in-github",
        "colab_type": "text"
      },
      "source": [
        "<a href=\"https://colab.research.google.com/github/Dnyanesh2001/Dnyanesh2001/blob/main/linearregreassion_heightweight.ipynb\" target=\"_parent\"><img src=\"https://colab.research.google.com/assets/colab-badge.svg\" alt=\"Open In Colab\"/></a>"
      ]
    },
    {
      "cell_type": "code",
      "execution_count": 13,
      "metadata": {
        "colab": {
          "base_uri": "https://localhost:8080/"
        },
        "id": "lf3LUTJGRTjz",
        "outputId": "fd21fc52-749f-4076-9692-b5315e139380"
      },
      "outputs": [
        {
          "output_type": "stream",
          "name": "stdout",
          "text": [
            "       Index  Height(Inches)  Weight(Pounds)\n",
            "0          1        65.78331        112.9925\n",
            "1          2        71.51521        136.4873\n",
            "2          3        69.39874        153.0269\n",
            "3          4        68.21660        142.3354\n",
            "4          5        67.78781        144.2971\n",
            "...      ...             ...             ...\n",
            "24995  24996        69.50215        118.0312\n",
            "24996  24997        64.54826        120.1932\n",
            "24997  24998        64.69855        118.2655\n",
            "24998  24999        67.52918        132.2682\n",
            "24999  25000        68.87761        124.8742\n",
            "\n",
            "[25000 rows x 3 columns]\n"
          ]
        }
      ],
      "source": [
        "import numpy as np\n",
        "import pandas as pd\n",
        "\n",
        "\n",
        "data = pd.read_csv(\"/content/SOCR-HeightWeight.csv\")\n",
        "print(data)\n",
        "x=data[\"Height(Inches)\"]\n",
        "y=data[\"Weight(Pounds)\"]"
      ]
    },
    {
      "cell_type": "code",
      "source": [
        "m_x=np.mean(x)\n",
        "m_y=np.mean(y)\n",
        "n=np.size(x)"
      ],
      "metadata": {
        "id": "HPJtPnbe2Rtn"
      },
      "execution_count": 18,
      "outputs": []
    },
    {
      "cell_type": "code",
      "source": [
        "cov=np.sum((x-m_x)*(y-m_y))/n-1\n",
        "cov"
      ],
      "metadata": {
        "id": "BLgOoNFa7onq",
        "colab": {
          "base_uri": "https://localhost:8080/"
        },
        "outputId": "569f8ae1-7597-4342-af59-c960c4cca28d"
      },
      "execution_count": 19,
      "outputs": [
        {
          "output_type": "execute_result",
          "data": {
            "text/plain": [
              "10.150583132400378"
            ]
          },
          "metadata": {},
          "execution_count": 19
        }
      ]
    },
    {
      "cell_type": "code",
      "source": [
        "var=np.sum((x-m_x)**2)/n-1\n",
        "var"
      ],
      "metadata": {
        "id": "rw0pAuVB8ctf",
        "colab": {
          "base_uri": "https://localhost:8080/"
        },
        "outputId": "572a4ffb-3457-4c72-9509-b0ea324193ea"
      },
      "execution_count": 20,
      "outputs": [
        {
          "output_type": "execute_result",
          "data": {
            "text/plain": [
              "2.6162374935681267"
            ]
          },
          "metadata": {},
          "execution_count": 20
        }
      ]
    },
    {
      "cell_type": "code",
      "source": [
        "b_1=cov/var\n",
        "b_1"
      ],
      "metadata": {
        "id": "FDEZi5is8owf",
        "colab": {
          "base_uri": "https://localhost:8080/"
        },
        "outputId": "24dca939-9ae6-4216-92b9-99185f69bf62"
      },
      "execution_count": 21,
      "outputs": [
        {
          "output_type": "execute_result",
          "data": {
            "text/plain": [
              "3.879840097603913"
            ]
          },
          "metadata": {},
          "execution_count": 21
        }
      ]
    },
    {
      "cell_type": "code",
      "source": [
        "b_0=m_y-(b_1*m_x)\n",
        "b_0"
      ],
      "metadata": {
        "id": "Hnk85-fD8uE9",
        "colab": {
          "base_uri": "https://localhost:8080/"
        },
        "outputId": "cd1e75ef-e109-4996-d4f0-09e000d85ebd"
      },
      "execution_count": 22,
      "outputs": [
        {
          "output_type": "execute_result",
          "data": {
            "text/plain": [
              "-136.72298733300244"
            ]
          },
          "metadata": {},
          "execution_count": 22
        }
      ]
    },
    {
      "cell_type": "code",
      "source": [
        "Y=b_0+b_1*x\n",
        "Y"
      ],
      "metadata": {
        "id": "UR62A81w86IK",
        "colab": {
          "base_uri": "https://localhost:8080/"
        },
        "outputId": "95caca71-8c78-477f-f049-b18929b3ca30"
      },
      "execution_count": 23,
      "outputs": [
        {
          "output_type": "execute_result",
          "data": {
            "text/plain": [
              "0        118.505737\n",
              "1        140.744592\n",
              "2        132.533027\n",
              "3        127.946513\n",
              "4        126.282876\n",
              "            ...    \n",
              "24995    132.934241\n",
              "24996    113.713940\n",
              "24997    114.297041\n",
              "24998    125.279433\n",
              "24999    130.511126\n",
              "Name: Height(Inches), Length: 25000, dtype: float64"
            ]
          },
          "metadata": {},
          "execution_count": 23
        }
      ]
    },
    {
      "cell_type": "code",
      "source": [
        "plt.scatter(x,y)\n",
        "plt.plot(x,Y,color = \"g\")"
      ],
      "metadata": {
        "id": "HwvMoyub9BaY",
        "colab": {
          "base_uri": "https://localhost:8080/",
          "height": 283
        },
        "outputId": "b9cf3d4a-b400-4911-847d-79417a43664f"
      },
      "execution_count": 24,
      "outputs": [
        {
          "output_type": "execute_result",
          "data": {
            "text/plain": [
              "[<matplotlib.lines.Line2D at 0x7fac225e0430>]"
            ]
          },
          "metadata": {},
          "execution_count": 24
        },
        {
          "output_type": "display_data",
          "data": {
            "text/plain": [
              "<Figure size 432x288 with 1 Axes>"
            ],
            "image/png": "[encoded data removed]"
          },
          "metadata": {
            "needs_background": "light"
          }
        }
      ]
    }
  ]
}